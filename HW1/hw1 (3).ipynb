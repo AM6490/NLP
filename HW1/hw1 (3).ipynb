{
 "cells": [
  {
   "cell_type": "code",
   "execution_count": 5,
   "id": "fac2e730",
   "metadata": {},
   "outputs": [
    {
     "name": "stdout",
     "output_type": "stream",
     "text": [
      "100\n",
      "90\n",
      "80\n",
      "70\n",
      "60\n",
      "50\n",
      "40\n",
      "30\n",
      "20\n",
      "10\n"
     ]
    }
   ],
   "source": [
    "\"\"\"\n",
    "1. Modify the code below to count 'up' in increments of +2\n",
    "\"\"\"\n",
    "for word in range(100, 0, -10):\n",
    "    print (word)"
   ]
  },
  {
   "cell_type": "code",
   "execution_count": null,
   "id": "1c41089d",
   "metadata": {},
   "outputs": [],
   "source": [
    "\"\"\"\n",
    "2. Change the code below to count down in increments of -2.0\n",
    "\"\"\"\n",
    "for word in range(100, 0, -1):\n",
    "    print (word)"
   ]
  },
  {
   "cell_type": "code",
   "execution_count": 6,
   "id": "52aa82be",
   "metadata": {},
   "outputs": [
    {
     "data": {
      "text/plain": [
       "'\\n3. Create a program that counts up from 0 to 100.  The program is to print \"Hello\" \\nwhen the count is greater than 50 and print \"World\" when the count is less then or equal to 50\\n'"
      ]
     },
     "execution_count": 6,
     "metadata": {},
     "output_type": "execute_result"
    }
   ],
   "source": [
    "\"\"\"\n",
    "3. Create a program that counts up from 0 to 100.  The program is to print \"Hello\" \n",
    "when the count is greater than 50 and print \"World\" when the count is less then or equal to 50\n",
    "\"\"\""
   ]
  },
  {
   "cell_type": "code",
   "execution_count": null,
   "id": "4c4d4d0c",
   "metadata": {},
   "outputs": [],
   "source": [
    "\"\"\"\n",
    "4. Create a function called char_cnt that takes in a string and outputs a dictionary where\n",
    "each key represents a unique character and the value is the number of times that character\n",
    "shows up in the string\n",
    "\"\"\""
   ]
  },
  {
   "cell_type": "code",
   "execution_count": 2,
   "id": "9f000203",
   "metadata": {},
   "outputs": [
    {
     "data": {
      "text/plain": [
       "'\\n5.  create a function called rev_list that takes a list as an input and reverses the elements \\nof a that list, you must use a loop statement or sorts, and you cannot use .reverse() or [::-1] \\n'"
      ]
     },
     "execution_count": 2,
     "metadata": {},
     "output_type": "execute_result"
    }
   ],
   "source": [
    "\"\"\"\n",
    "5.  create a function called rev_list that takes a list as an input and reverses the elements \n",
    "of a that list, you must use a loop statement or sorts, and you cannot use .reverse() or [::-1] \n",
    "\"\"\""
   ]
  },
  {
   "cell_type": "code",
   "execution_count": 11,
   "id": "f0a9343f",
   "metadata": {},
   "outputs": [],
   "source": [
    "\"\"\"\n",
    "6. Using list comprehension (HINT: []) populate an array whose individual word \n",
    "character lengths are >= 5 (10 points)\n",
    "\"\"\"\n",
    "the_sentence = 'the student went above and beyond the call of duty on the homework'"
   ]
  },
  {
   "cell_type": "code",
   "execution_count": 10,
   "id": "1598d464",
   "metadata": {},
   "outputs": [
    {
     "ename": "AttributeError",
     "evalue": "module 're' has no attribute 'subway'",
     "output_type": "error",
     "traceback": [
      "\u001b[1;31m---------------------------------------------------------------------------\u001b[0m",
      "\u001b[1;31mAttributeError\u001b[0m                            Traceback (most recent call last)",
      "Cell \u001b[1;32mIn[10], line 7\u001b[0m\n\u001b[0;32m      4\u001b[0m \u001b[38;5;28;01mimport\u001b[39;00m \u001b[38;5;21;01mre\u001b[39;00m\n\u001b[0;32m      5\u001b[0m the_sentence \u001b[38;5;241m=\u001b[39m \u001b[38;5;124m'\u001b[39m\u001b[38;5;124mthe orange cat jumped over the dog, but the orange cat landed on another orange cat\u001b[39m\u001b[38;5;124m'\u001b[39m\n\u001b[1;32m----> 7\u001b[0m my_ar \u001b[38;5;241m=\u001b[39m my_ar \u001b[38;5;241m=\u001b[39m re\u001b[38;5;241m.\u001b[39msubway(\u001b[38;5;124m'\u001b[39m\u001b[38;5;124mdog\u001b[39m\u001b[38;5;124m'\u001b[39m, \u001b[38;5;124m'\u001b[39m\u001b[38;5;124mturtle\u001b[39m\u001b[38;5;124m'\u001b[39m, \u001b[38;5;28mlen\u001b[39m(the_sentenced))\n",
      "\u001b[1;31mAttributeError\u001b[0m: module 're' has no attribute 'subway'"
     ]
    }
   ],
   "source": [
    "\"\"\"\n",
    "7. Fix the errors in the code below and replace the word dog with turtle\n",
    "\"\"\"\n",
    "import re\n",
    "the_sentence = 'the orange cat jumped over the dog, but the orange cat landed on another orange cat'\n",
    "\n",
    "my_ar = my_ar = re.subway('dog', 'turtle', len(the_sentenced))"
   ]
  },
  {
   "cell_type": "code",
   "execution_count": 33,
   "id": "5b4330d2",
   "metadata": {},
   "outputs": [
    {
     "data": {
      "text/plain": [
       "'woah!!! the student really impressed me and so did you!!!'"
      ]
     },
     "execution_count": 33,
     "metadata": {},
     "output_type": "execute_result"
    }
   ],
   "source": [
    "\"\"\"\n",
    "8. Create a function called cln_txt that takes a list as an input, the\n",
    "list will contain tokens, your job is to replace any special characters with\n",
    "a no space, except '!', with ''\n",
    "\"\"\"\n",
    "\n",
    "the_ar = ['woah!!!','the','@student',' really^','# impressed','me,','and&','so','did','??you!!!']"
   ]
  },
  {
   "cell_type": "code",
   "execution_count": 9,
   "id": "6172ca70",
   "metadata": {},
   "outputs": [],
   "source": [
    "\"\"\"\n",
    "9. Create a program that loops 10 times and for each loop generate a random integer between 1 and 10, \n",
    "and print 'even' if the number is even and 'odd' if the number is odd (HINT: import random)\n",
    "if the number is odd\n",
    "\"\"\"\n",
    "import random"
   ]
  },
  {
   "cell_type": "code",
   "execution_count": null,
   "id": "0fed53a9",
   "metadata": {},
   "outputs": [],
   "source": [
    "\"\"\"\n",
    "10. Create a function called the_cat which can accept two input strings, the output\n",
    "of the function will concatenate both string together, with a single space between and print\n",
    "the total length of the resultant string\n",
    "i.e. string_1 = \"john\", string_2 = \"doe\", function to output \"john doe\", 9\n",
    "\"\"\""
   ]
  }
 ],
 "metadata": {
  "kernelspec": {
   "display_name": "Python 3 (ipykernel)",
   "language": "python",
   "name": "python3"
  },
  "language_info": {
   "codemirror_mode": {
    "name": "ipython",
    "version": 3
   },
   "file_extension": ".py",
   "mimetype": "text/x-python",
   "name": "python",
   "nbconvert_exporter": "python",
   "pygments_lexer": "ipython3",
   "version": "3.11.4"
  }
 },
 "nbformat": 4,
 "nbformat_minor": 5
}
