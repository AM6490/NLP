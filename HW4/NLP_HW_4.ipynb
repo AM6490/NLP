{
  "nbformat": 4,
  "nbformat_minor": 0,
  "metadata": {
    "colab": {
      "provenance": []
    },
    "kernelspec": {
      "name": "python3",
      "display_name": "Python 3"
    },
    "language_info": {
      "name": "python"
    }
  },
  "cells": [
    {
      "cell_type": "code",
      "source": [
        "from google.colab import drive\n",
        "drive.mount('/content/drive')"
      ],
      "metadata": {
        "colab": {
          "base_uri": "https://localhost:8080/"
        },
        "id": "yK5A_Hl0y64o",
        "outputId": "9bdb47c4-3662-400f-dda1-8bcaa1ee73a5"
      },
      "execution_count": null,
      "outputs": [
        {
          "output_type": "stream",
          "name": "stdout",
          "text": [
            "Drive already mounted at /content/drive; to attempt to forcibly remount, call drive.mount(\"/content/drive\", force_remount=True).\n"
          ]
        }
      ]
    },
    {
      "cell_type": "code",
      "source": [
        "import pandas as pd\n",
        "\n",
        "# Define file path\n",
        "file_path = '/content/drive/My Drive/NLPHW4/hw4.pk'\n",
        "\n",
        "# Load the pickle file into a DataFrame\n",
        "data = pd.read_pickle(file_path)\n",
        "\n",
        "# Display the first few rows to confirm the data\n",
        "print(data.head())\n"
      ],
      "metadata": {
        "colab": {
          "base_uri": "https://localhost:8080/"
        },
        "id": "lfuasMVm0E8n",
        "outputId": "000e1442-fb30-49e4-d133-238804856bd5"
      },
      "execution_count": null,
      "outputs": [
        {
          "output_type": "stream",
          "name": "stdout",
          "text": [
            "                                                body                    label\n",
            "0   We use essential cookies to make Venngage wor...  legal_contract_examples\n",
            "1  A legal contract is a written document that is...  legal_contract_examples\n",
            "2   November 27 2023 14 min Author Olga Asheychik...  legal_contract_examples\n",
            "3  Accelerate contracts with AI native workflows ...  legal_contract_examples\n",
            "4  Create smarter agreements commit to them more ...  legal_contract_examples\n"
          ]
        }
      ]
    },
    {
      "cell_type": "code",
      "source": [
        "import pickle\n",
        "import nltk\n",
        "import pandas as pd\n",
        "from sklearn.model_selection import train_test_split\n",
        "from sklearn.feature_extraction.text import TfidfVectorizer\n",
        "from sklearn.ensemble import RandomForestClassifier\n",
        "from sklearn.metrics import classification_report, accuracy_score\n",
        "from nltk.tokenize import word_tokenize\n",
        "from nltk.corpus import stopwords\n",
        "import string\n",
        "\n",
        "# Download NLTK resources\n",
        "nltk.download('punkt_tab')\n",
        "nltk.download('stopwords')\n",
        "\n",
        "# Define file path for pickle file\n",
        "file_path = '/content/drive/My Drive/NLPHW4/hw4.pk'\n",
        "\n",
        "# Load the pickle file\n",
        "with open(file_path, 'rb') as f:\n",
        "    data = pickle.load(f)\n",
        "\n",
        "# Extract body (text of document) and labels\n",
        "documents = data['body']\n",
        "labels = data['label']\n",
        "\n",
        "# Preprocess text: tokenization, lowercasing, removing stopwords and punctuation\n",
        "stop_words = set(stopwords.words('english'))\n",
        "\n",
        "def preprocess_text(text):\n",
        "    # Tokenize the text\n",
        "    tokens = word_tokenize(text.lower())  # Convert to lowercase and tokenize\n",
        "    # Remove stopwords and punctuation\n",
        "    tokens = [word for word in tokens if word.isalpha() and word not in stop_words]\n",
        "    return \" \".join(tokens)\n",
        "\n",
        "# Preprocess all documents\n",
        "preprocessed_documents = [preprocess_text(doc) for doc in documents]\n",
        "\n",
        "# Split the data into training and test sets (70% train, 30% test)\n",
        "X_train, X_test, y_train, y_test = train_test_split(preprocessed_documents, labels, test_size=0.3, random_state=42)\n",
        "\n",
        "# Convert text data into TF-IDF features\n",
        "tfidf_vectorizer = TfidfVectorizer()\n",
        "X_train_tfidf = tfidf_vectorizer.fit_transform(X_train)\n",
        "X_test_tfidf = tfidf_vectorizer.transform(X_test)\n",
        "\n",
        "# Train a Random Forest classifier\n",
        "classifier = RandomForestClassifier(n_estimators=100, random_state=42)\n",
        "classifier.fit(X_train_tfidf, y_train)\n",
        "\n",
        "# Make predictions on the test set\n",
        "y_pred = classifier.predict(X_test_tfidf)\n",
        "\n",
        "# Evaluate the model\n",
        "accuracy = accuracy_score(y_test, y_pred)\n",
        "print(f\"Accuracy: {accuracy}\")\n",
        "print(\"\\nClassification Report:\")\n",
        "print(classification_report(y_test, y_pred))\n",
        "\n",
        "# Classify all documents in the dataset (train and test combined)\n",
        "all_tfidf = tfidf_vectorizer.transform(preprocessed_documents)\n",
        "all_predictions = classifier.predict(all_tfidf)\n",
        "\n",
        "# Print the predictions for all documents (first 10 for brevity)\n",
        "for doc, label in zip(documents[:10], all_predictions[:10]):  # Displaying the first 10 for brevity\n",
        "    print(f\"Document: {doc[:100]}... => Predicted label: {label}\")\n",
        "\n",
        "# Optionally: Save the predictions with document texts\n",
        "classified_documents = pd.DataFrame({\n",
        "    'Document': documents,\n",
        "    'Predicted Label': all_predictions\n",
        "})\n",
        "\n",
        "# Save to a CSV file\n",
        "classified_documents.to_csv('/content/drive/My Drive/NLPHW4/classified_documents.csv', index=False)\n"
      ],
      "metadata": {
        "colab": {
          "base_uri": "https://localhost:8080/"
        },
        "id": "MpbqeEwuzKVd",
        "outputId": "733b2644-9d0c-4569-bcdf-d6f5719dfec9"
      },
      "execution_count": null,
      "outputs": [
        {
          "output_type": "stream",
          "name": "stderr",
          "text": [
            "[nltk_data] Downloading package punkt_tab to /root/nltk_data...\n",
            "[nltk_data]   Package punkt_tab is already up-to-date!\n",
            "[nltk_data] Downloading package stopwords to /root/nltk_data...\n",
            "[nltk_data]   Package stopwords is already up-to-date!\n"
          ]
        },
        {
          "output_type": "stream",
          "name": "stdout",
          "text": [
            "Accuracy: 0.7794117647058824\n",
            "\n",
            "Classification Report:\n",
            "                                    precision    recall  f1-score   support\n",
            "\n",
            "engineering_specification_examples       0.62      0.95      0.75        22\n",
            "           legal_contract_examples       0.89      0.80      0.84        20\n",
            "       marketing_material_examples       1.00      0.62      0.76        26\n",
            "\n",
            "                          accuracy                           0.78        68\n",
            "                         macro avg       0.84      0.79      0.78        68\n",
            "                      weighted avg       0.84      0.78      0.78        68\n",
            "\n",
            "Document:  We use essential cookies to make Venngage work By clicking Accept All Cookies you agree to the stor... => Predicted label: legal_contract_examples\n",
            "Document: A legal contract is a written document that is drawn up by a party and is agreed upon by all parties... => Predicted label: legal_contract_examples\n",
            "Document:  November 27 2023 14 min Author Olga Asheychik Senior Web Analytics Manager at PandaDoc Choosing the... => Predicted label: legal_contract_examples\n",
            "Document: Accelerate contracts with AI native workflows Advanced electronic signature on any device Create con... => Predicted label: legal_contract_examples\n",
            "Document: Create smarter agreements commit to them more efficiently and manage them to realize their full valu... => Predicted label: legal_contract_examples\n",
            "Document: A contract is an agreement between two parties that creates an obligation to perform or not perform ... => Predicted label: legal_contract_examples\n",
            "Document: Please enable JS and disable any ad blocker... => Predicted label: legal_contract_examples\n",
            "Document:  WEBINAR NOV 14th Use Contract Data to Drive New Insights REGISTER NOW In the realm of legal agreeme... => Predicted label: legal_contract_examples\n",
            "Document:  luctus etiam leo nulla etiam convallis tincidunt integer Pellentesque suscipit adipiscing nullam lu... => Predicted label: legal_contract_examples\n",
            "Document: Entering into contracts is part of running a small business and it s important to manage your contra... => Predicted label: legal_contract_examples\n"
          ]
        }
      ]
    }
  ]
}